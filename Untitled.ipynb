{
 "cells": [
  {
   "cell_type": "markdown",
   "metadata": {},
   "source": [
    "## Imports"
   ]
  },
  {
   "cell_type": "code",
   "execution_count": 155,
   "metadata": {},
   "outputs": [],
   "source": [
    "import numpy as np\n",
    "import pandas as pd\n",
    "import matplotlib.pyplot as plt\n",
    "import seaborn as sns\n",
    "\n",
    "%matplotlib inline"
   ]
  },
  {
   "cell_type": "markdown",
   "metadata": {},
   "source": [
    "## Read EEG dataset"
   ]
  },
  {
   "cell_type": "code",
   "execution_count": 156,
   "metadata": {},
   "outputs": [
    {
     "data": {
      "text/html": [
       "<div>\n",
       "<style scoped>\n",
       "    .dataframe tbody tr th:only-of-type {\n",
       "        vertical-align: middle;\n",
       "    }\n",
       "\n",
       "    .dataframe tbody tr th {\n",
       "        vertical-align: top;\n",
       "    }\n",
       "\n",
       "    .dataframe thead th {\n",
       "        text-align: right;\n",
       "    }\n",
       "</style>\n",
       "<table border=\"1\" class=\"dataframe\">\n",
       "  <thead>\n",
       "    <tr style=\"text-align: right;\">\n",
       "      <th></th>\n",
       "      <th># mean_0_a</th>\n",
       "      <th>mean_1_a</th>\n",
       "      <th>mean_2_a</th>\n",
       "      <th>mean_3_a</th>\n",
       "      <th>mean_4_a</th>\n",
       "      <th>mean_d_0_a</th>\n",
       "      <th>mean_d_1_a</th>\n",
       "      <th>mean_d_2_a</th>\n",
       "      <th>mean_d_3_a</th>\n",
       "      <th>mean_d_4_a</th>\n",
       "      <th>...</th>\n",
       "      <th>fft_741_b</th>\n",
       "      <th>fft_742_b</th>\n",
       "      <th>fft_743_b</th>\n",
       "      <th>fft_744_b</th>\n",
       "      <th>fft_745_b</th>\n",
       "      <th>fft_746_b</th>\n",
       "      <th>fft_747_b</th>\n",
       "      <th>fft_748_b</th>\n",
       "      <th>fft_749_b</th>\n",
       "      <th>label</th>\n",
       "    </tr>\n",
       "  </thead>\n",
       "  <tbody>\n",
       "    <tr>\n",
       "      <th>0</th>\n",
       "      <td>4.62</td>\n",
       "      <td>30.3</td>\n",
       "      <td>-356.0</td>\n",
       "      <td>15.6</td>\n",
       "      <td>26.3</td>\n",
       "      <td>1.070</td>\n",
       "      <td>0.411</td>\n",
       "      <td>-15.70</td>\n",
       "      <td>2.06</td>\n",
       "      <td>3.15</td>\n",
       "      <td>...</td>\n",
       "      <td>23.5</td>\n",
       "      <td>20.3</td>\n",
       "      <td>20.3</td>\n",
       "      <td>23.5</td>\n",
       "      <td>-215.0</td>\n",
       "      <td>280.00</td>\n",
       "      <td>-162.00</td>\n",
       "      <td>-162.00</td>\n",
       "      <td>280.00</td>\n",
       "      <td>NEGATIVE</td>\n",
       "    </tr>\n",
       "    <tr>\n",
       "      <th>1</th>\n",
       "      <td>28.80</td>\n",
       "      <td>33.1</td>\n",
       "      <td>32.0</td>\n",
       "      <td>25.8</td>\n",
       "      <td>22.8</td>\n",
       "      <td>6.550</td>\n",
       "      <td>1.680</td>\n",
       "      <td>2.88</td>\n",
       "      <td>3.83</td>\n",
       "      <td>-4.82</td>\n",
       "      <td>...</td>\n",
       "      <td>-23.3</td>\n",
       "      <td>-21.8</td>\n",
       "      <td>-21.8</td>\n",
       "      <td>-23.3</td>\n",
       "      <td>182.0</td>\n",
       "      <td>2.57</td>\n",
       "      <td>-31.60</td>\n",
       "      <td>-31.60</td>\n",
       "      <td>2.57</td>\n",
       "      <td>NEUTRAL</td>\n",
       "    </tr>\n",
       "    <tr>\n",
       "      <th>2</th>\n",
       "      <td>8.90</td>\n",
       "      <td>29.4</td>\n",
       "      <td>-416.0</td>\n",
       "      <td>16.7</td>\n",
       "      <td>23.7</td>\n",
       "      <td>79.900</td>\n",
       "      <td>3.360</td>\n",
       "      <td>90.20</td>\n",
       "      <td>89.90</td>\n",
       "      <td>2.03</td>\n",
       "      <td>...</td>\n",
       "      <td>462.0</td>\n",
       "      <td>-233.0</td>\n",
       "      <td>-233.0</td>\n",
       "      <td>462.0</td>\n",
       "      <td>-267.0</td>\n",
       "      <td>281.00</td>\n",
       "      <td>-148.00</td>\n",
       "      <td>-148.00</td>\n",
       "      <td>281.00</td>\n",
       "      <td>POSITIVE</td>\n",
       "    </tr>\n",
       "    <tr>\n",
       "      <th>3</th>\n",
       "      <td>14.90</td>\n",
       "      <td>31.6</td>\n",
       "      <td>-143.0</td>\n",
       "      <td>19.8</td>\n",
       "      <td>24.3</td>\n",
       "      <td>-0.584</td>\n",
       "      <td>-0.284</td>\n",
       "      <td>8.82</td>\n",
       "      <td>2.30</td>\n",
       "      <td>-1.97</td>\n",
       "      <td>...</td>\n",
       "      <td>299.0</td>\n",
       "      <td>-243.0</td>\n",
       "      <td>-243.0</td>\n",
       "      <td>299.0</td>\n",
       "      <td>132.0</td>\n",
       "      <td>-12.40</td>\n",
       "      <td>9.53</td>\n",
       "      <td>9.53</td>\n",
       "      <td>-12.40</td>\n",
       "      <td>POSITIVE</td>\n",
       "    </tr>\n",
       "    <tr>\n",
       "      <th>4</th>\n",
       "      <td>28.30</td>\n",
       "      <td>31.3</td>\n",
       "      <td>45.2</td>\n",
       "      <td>27.3</td>\n",
       "      <td>24.5</td>\n",
       "      <td>34.800</td>\n",
       "      <td>-5.790</td>\n",
       "      <td>3.06</td>\n",
       "      <td>41.40</td>\n",
       "      <td>5.52</td>\n",
       "      <td>...</td>\n",
       "      <td>12.0</td>\n",
       "      <td>38.1</td>\n",
       "      <td>38.1</td>\n",
       "      <td>12.0</td>\n",
       "      <td>119.0</td>\n",
       "      <td>-17.60</td>\n",
       "      <td>23.90</td>\n",
       "      <td>23.90</td>\n",
       "      <td>-17.60</td>\n",
       "      <td>NEUTRAL</td>\n",
       "    </tr>\n",
       "  </tbody>\n",
       "</table>\n",
       "<p>5 rows × 2549 columns</p>\n",
       "</div>"
      ],
      "text/plain": [
       "   # mean_0_a  mean_1_a  mean_2_a  mean_3_a  mean_4_a  mean_d_0_a  mean_d_1_a  \\\n",
       "0        4.62      30.3    -356.0      15.6      26.3       1.070       0.411   \n",
       "1       28.80      33.1      32.0      25.8      22.8       6.550       1.680   \n",
       "2        8.90      29.4    -416.0      16.7      23.7      79.900       3.360   \n",
       "3       14.90      31.6    -143.0      19.8      24.3      -0.584      -0.284   \n",
       "4       28.30      31.3      45.2      27.3      24.5      34.800      -5.790   \n",
       "\n",
       "   mean_d_2_a  mean_d_3_a  mean_d_4_a  ...  fft_741_b  fft_742_b  fft_743_b  \\\n",
       "0      -15.70        2.06        3.15  ...       23.5       20.3       20.3   \n",
       "1        2.88        3.83       -4.82  ...      -23.3      -21.8      -21.8   \n",
       "2       90.20       89.90        2.03  ...      462.0     -233.0     -233.0   \n",
       "3        8.82        2.30       -1.97  ...      299.0     -243.0     -243.0   \n",
       "4        3.06       41.40        5.52  ...       12.0       38.1       38.1   \n",
       "\n",
       "   fft_744_b  fft_745_b  fft_746_b  fft_747_b  fft_748_b  fft_749_b     label  \n",
       "0       23.5     -215.0     280.00    -162.00    -162.00     280.00  NEGATIVE  \n",
       "1      -23.3      182.0       2.57     -31.60     -31.60       2.57   NEUTRAL  \n",
       "2      462.0     -267.0     281.00    -148.00    -148.00     281.00  POSITIVE  \n",
       "3      299.0      132.0     -12.40       9.53       9.53     -12.40  POSITIVE  \n",
       "4       12.0      119.0     -17.60      23.90      23.90     -17.60   NEUTRAL  \n",
       "\n",
       "[5 rows x 2549 columns]"
      ]
     },
     "execution_count": 156,
     "metadata": {},
     "output_type": "execute_result"
    }
   ],
   "source": [
    "data = pd.read_csv(\"emotions.csv\")\n",
    "data.head()"
   ]
  },
  {
   "cell_type": "markdown",
   "metadata": {},
   "source": [
    "## Explore Dataset"
   ]
  },
  {
   "cell_type": "markdown",
   "metadata": {},
   "source": [
    "### Get All the labels"
   ]
  },
  {
   "cell_type": "code",
   "execution_count": 157,
   "metadata": {},
   "outputs": [
    {
     "data": {
      "text/plain": [
       "array(['NEGATIVE', 'NEUTRAL', 'POSITIVE'], dtype=object)"
      ]
     },
     "execution_count": 157,
     "metadata": {},
     "output_type": "execute_result"
    }
   ],
   "source": [
    "data[\"label\"].unique()"
   ]
  },
  {
   "cell_type": "markdown",
   "metadata": {},
   "source": [
    "### Get labels count"
   ]
  },
  {
   "cell_type": "code",
   "execution_count": 158,
   "metadata": {},
   "outputs": [
    {
     "name": "stdout",
     "output_type": "stream",
     "text": [
      "708 708 716\n"
     ]
    }
   ],
   "source": [
    "print(len(data[data[\"label\"] == \"NEGATIVE\"]),\n",
    "      len(data[data[\"label\"] == \"POSITIVE\"]),\n",
    "      len(data[data[\"label\"] == \"NEUTRAL\"]))"
   ]
  },
  {
   "cell_type": "markdown",
   "metadata": {},
   "source": [
    "### Plot Labels count"
   ]
  },
  {
   "cell_type": "code",
   "execution_count": 159,
   "metadata": {},
   "outputs": [
    {
     "data": {
      "text/plain": [
       "<AxesSubplot:>"
      ]
     },
     "execution_count": 159,
     "metadata": {},
     "output_type": "execute_result"
    },
    {
     "data": {
      "image/png": "[encoded data removed]",
      "text/plain": [
       "<Figure size 432x288 with 1 Axes>"
      ]
     },
     "metadata": {
      "needs_background": "light"
     },
     "output_type": "display_data"
    }
   ],
   "source": [
    "pd.value_counts(data['label']).plot.bar()"
   ]
  },
  {
   "cell_type": "markdown",
   "metadata": {},
   "source": [
    "## Prepare our Features and Target Labels"
   ]
  },
  {
   "cell_type": "code",
   "execution_count": 160,
   "metadata": {},
   "outputs": [
    {
     "name": "stdout",
     "output_type": "stream",
     "text": [
      "(2132, 2548) (2132,)\n"
     ]
    }
   ],
   "source": [
    "X = data.drop(\"label\", axis=1)\n",
    "y = data.label\n",
    "\n",
    "X = np.array(X)\n",
    "y = np.array(y)\n",
    "\n",
    "print(X.shape, y.shape)"
   ]
  },
  {
   "cell_type": "markdown",
   "metadata": {},
   "source": [
    "## Encoding Target Labels "
   ]
  },
  {
   "cell_type": "code",
   "execution_count": 161,
   "metadata": {},
   "outputs": [
    {
     "data": {
      "text/plain": [
       "array([0, 1, 2, ..., 0, 0, 1])"
      ]
     },
     "execution_count": 161,
     "metadata": {},
     "output_type": "execute_result"
    }
   ],
   "source": [
    "from sklearn import preprocessing\n",
    "\n",
    "le = preprocessing.LabelEncoder()\n",
    "le.fit(y)\n",
    "y = le.transform(y)\n",
    "y"
   ]
  },
  {
   "cell_type": "markdown",
   "metadata": {},
   "source": [
    "## Split Dataset into Train and Test sets with ratio of 80-20% respectively "
   ]
  },
  {
   "cell_type": "code",
   "execution_count": 162,
   "metadata": {},
   "outputs": [],
   "source": [
    "from sklearn.model_selection import train_test_split\n",
    "\n",
    "X_train, X_test, y_train, y_test = train_test_split(X, y, test_size=0.2, random_state=42)"
   ]
  },
  {
   "cell_type": "markdown",
   "metadata": {},
   "source": [
    "## Import our ML Classifiers and Metrics"
   ]
  },
  {
   "cell_type": "code",
   "execution_count": 163,
   "metadata": {},
   "outputs": [],
   "source": [
    "from sklearn import svm\n",
    "from sklearn import tree\n",
    "from sklearn.ensemble import RandomForestClassifier\n",
    "from sklearn.neighbors import KNeighborsClassifier\n",
    "from sklearn.linear_model import LogisticRegression\n",
    "from sklearn.metrics import classification_report, confusion_matrix, accuracy_score"
   ]
  },
  {
   "cell_type": "markdown",
   "metadata": {},
   "source": [
    "## Random Forest"
   ]
  },
  {
   "cell_type": "code",
   "execution_count": 164,
   "metadata": {},
   "outputs": [
    {
     "data": {
      "text/plain": [
       "RandomForestClassifier(n_estimators=10)"
      ]
     },
     "execution_count": 164,
     "metadata": {},
     "output_type": "execute_result"
    }
   ],
   "source": [
    "## Training\n",
    "rf = RandomForestClassifier(n_estimators=10)\n",
    "rf.fit(X_train, y_train)"
   ]
  },
  {
   "cell_type": "code",
   "execution_count": 165,
   "metadata": {},
   "outputs": [
    {
     "name": "stdout",
     "output_type": "stream",
     "text": [
      "Test Accuracy:  0.9812646370023419\n"
     ]
    }
   ],
   "source": [
    "## Prediction\n",
    "y_pred_rf = rf.predict(X_test)\n",
    "\n",
    "random_forest_score = accuracy_score(y_test, y_pred_rf)\n",
    "print(\"Test Accuracy: \", random_forest_score)"
   ]
  },
  {
   "cell_type": "code",
   "execution_count": 166,
   "metadata": {},
   "outputs": [
    {
     "data": {
      "text/plain": [
       "Text(0.5, 1.0, 'Confusion matrix')"
      ]
     },
     "execution_count": 166,
     "metadata": {},
     "output_type": "execute_result"
    },
    {
     "data": {
      "image/png": "[encoded data removed]",
      "text/plain": [
       "<Figure size 432x288 with 2 Axes>"
      ]
     },
     "metadata": {
      "needs_background": "light"
     },
     "output_type": "display_data"
    }
   ],
   "source": [
    "## Confusion Matrix\n",
    "cm = confusion_matrix(y_pred=y_pred_rf, y_true=y_test)\n",
    "sns.heatmap(cm, annot=True).set_title('Confusion matrix')"
   ]
  },
  {
   "cell_type": "markdown",
   "metadata": {},
   "source": [
    "## SVM"
   ]
  },
  {
   "cell_type": "code",
   "execution_count": 167,
   "metadata": {},
   "outputs": [
    {
     "data": {
      "text/plain": [
       "SVC()"
      ]
     },
     "execution_count": 167,
     "metadata": {},
     "output_type": "execute_result"
    }
   ],
   "source": [
    "## Training\n",
    "svc = svm.SVC(gamma=\"scale\")\n",
    "svc.fit(X_train, y_train)"
   ]
  },
  {
   "cell_type": "code",
   "execution_count": 168,
   "metadata": {},
   "outputs": [
    {
     "name": "stdout",
     "output_type": "stream",
     "text": [
      "Test Accuracy:  0.3840749414519906\n"
     ]
    }
   ],
   "source": [
    "## Prediction\n",
    "y_pred_svm = svc.predict(X_test)\n",
    "svc_score = accuracy_score(y_test, y_pred_svm)\n",
    "print(\"Test Accuracy: \", svc_score)"
   ]
  },
  {
   "cell_type": "code",
   "execution_count": 169,
   "metadata": {},
   "outputs": [
    {
     "data": {
      "text/plain": [
       "Text(0.5, 1.0, 'Confusion matrix')"
      ]
     },
     "execution_count": 169,
     "metadata": {},
     "output_type": "execute_result"
    },
    {
     "data": {
      "image/png": "[encoded data removed]",
      "text/plain": [
       "<Figure size 432x288 with 2 Axes>"
      ]
     },
     "metadata": {
      "needs_background": "light"
     },
     "output_type": "display_data"
    }
   ],
   "source": [
    "## Confusion Matrix\n",
    "cm = confusion_matrix(y_pred=y_pred_svm, y_true=y_test)\n",
    "sns.heatmap(cm, annot=True).set_title('Confusion matrix')"
   ]
  },
  {
   "cell_type": "markdown",
   "metadata": {},
   "source": [
    "## Logistic Regression"
   ]
  },
  {
   "cell_type": "code",
   "execution_count": 178,
   "metadata": {},
   "outputs": [
    {
     "name": "stderr",
     "output_type": "stream",
     "text": [
      "/usr/local/lib/python3.6/dist-packages/sklearn/linear_model/_logistic.py:764: ConvergenceWarning: lbfgs failed to converge (status=2):\n",
      "ABNORMAL_TERMINATION_IN_LNSRCH.\n",
      "\n",
      "Increase the number of iterations (max_iter) or scale the data as shown in:\n",
      "    https://scikit-learn.org/stable/modules/preprocessing.html\n",
      "Please also refer to the documentation for alternative solver options:\n",
      "    https://scikit-learn.org/stable/modules/linear_model.html#logistic-regression\n",
      "  extra_warning_msg=_LOGISTIC_SOLVER_CONVERGENCE_MSG)\n"
     ]
    },
    {
     "data": {
      "text/plain": [
       "LogisticRegression(max_iter=200)"
      ]
     },
     "execution_count": 178,
     "metadata": {},
     "output_type": "execute_result"
    }
   ],
   "source": [
    "## Training\n",
    "lr = LogisticRegression(solver=\"lbfgs\", max_iter=200)\n",
    "lr.fit(X_train, y_train)"
   ]
  },
  {
   "cell_type": "code",
   "execution_count": 179,
   "metadata": {},
   "outputs": [
    {
     "name": "stdout",
     "output_type": "stream",
     "text": [
      "Test Accuracy:  0.33489461358313816\n"
     ]
    }
   ],
   "source": [
    "## Prediction\n",
    "y_pred_lr = lr.predict(X_test)\n",
    "logistic_regression_score = accuracy_score(y_test, y_pred_lr)\n",
    "print(\"Test Accuracy: \", logistic_regression_score)"
   ]
  },
  {
   "cell_type": "code",
   "execution_count": 180,
   "metadata": {},
   "outputs": [
    {
     "data": {
      "text/plain": [
       "Text(0.5, 1.0, 'Confusion matrix')"
      ]
     },
     "execution_count": 180,
     "metadata": {},
     "output_type": "execute_result"
    },
    {
     "data": {
      "image/png": "[encoded data removed]",
      "text/plain": [
       "<Figure size 432x288 with 2 Axes>"
      ]
     },
     "metadata": {
      "needs_background": "light"
     },
     "output_type": "display_data"
    }
   ],
   "source": [
    "## Confusion Matrix\n",
    "cm = confusion_matrix(y_pred=y_pred_lr, y_true=y_test)\n",
    "sns.heatmap(cm, annot=True).set_title('Confusion matrix')"
   ]
  },
  {
   "cell_type": "markdown",
   "metadata": {},
   "source": [
    "## K-Nearest Neighnors"
   ]
  },
  {
   "cell_type": "code",
   "execution_count": 181,
   "metadata": {},
   "outputs": [
    {
     "data": {
      "text/plain": [
       "KNeighborsClassifier()"
      ]
     },
     "execution_count": 181,
     "metadata": {},
     "output_type": "execute_result"
    }
   ],
   "source": [
    "## Training\n",
    "knn = KNeighborsClassifier()\n",
    "knn.fit(X_train, y_train)"
   ]
  },
  {
   "cell_type": "code",
   "execution_count": 182,
   "metadata": {},
   "outputs": [
    {
     "name": "stdout",
     "output_type": "stream",
     "text": [
      "Test Accuracy:  0.7611241217798594\n"
     ]
    }
   ],
   "source": [
    "## Prediction\n",
    "y_pred_knn = knn.predict(X_test)\n",
    "\n",
    "knn_score = accuracy_score(y_test, y_pred_knn)\n",
    "print(\"Test Accuracy: \", knn_score)"
   ]
  },
  {
   "cell_type": "code",
   "execution_count": 183,
   "metadata": {},
   "outputs": [
    {
     "data": {
      "text/plain": [
       "Text(0.5, 1.0, 'Confusion matrix')"
      ]
     },
     "execution_count": 183,
     "metadata": {},
     "output_type": "execute_result"
    },
    {
     "data": {
      "image/png": "[encoded data removed]",
      "text/plain": [
       "<Figure size 432x288 with 2 Axes>"
      ]
     },
     "metadata": {
      "needs_background": "light"
     },
     "output_type": "display_data"
    }
   ],
   "source": [
    "## Confusion Matrix\n",
    "cm = confusion_matrix(y_pred=y_pred_knn, y_true=y_test)\n",
    "sns.heatmap(cm, annot=True).set_title('Confusion matrix')"
   ]
  },
  {
   "cell_type": "markdown",
   "metadata": {},
   "source": [
    "## Decision Tree"
   ]
  },
  {
   "cell_type": "code",
   "execution_count": 184,
   "metadata": {},
   "outputs": [],
   "source": [
    "dt = tree.DecisionTreeClassifier()\n",
    "dt = dt.fit(X_train, y_train)"
   ]
  },
  {
   "cell_type": "code",
   "execution_count": 185,
   "metadata": {},
   "outputs": [
    {
     "name": "stdout",
     "output_type": "stream",
     "text": [
      "Test Accuracy:  0.7611241217798594\n"
     ]
    }
   ],
   "source": [
    "## Prediction\n",
    "y_pred_dt = dt.predict(X_test)\n",
    "\n",
    "dt_score = accuracy_score(y_test, y_pred_knn)\n",
    "print(\"Test Accuracy: \", dt_score)"
   ]
  },
  {
   "cell_type": "code",
   "execution_count": 186,
   "metadata": {},
   "outputs": [
    {
     "data": {
      "text/plain": [
       "Text(0.5, 1.0, 'Confusion matrix')"
      ]
     },
     "execution_count": 186,
     "metadata": {},
     "output_type": "execute_result"
    },
    {
     "data": {
      "image/png": "[encoded data removed]",
      "text/plain": [
       "<Figure size 432x288 with 2 Axes>"
      ]
     },
     "metadata": {
      "needs_background": "light"
     },
     "output_type": "display_data"
    }
   ],
   "source": [
    "## Confusion Matrix\n",
    "cm = confusion_matrix(y_pred=y_pred_dt, y_true=y_test)\n",
    "sns.heatmap(cm, annot=True).set_title('Confusion matrix')"
   ]
  },
  {
   "cell_type": "markdown",
   "metadata": {},
   "source": [
    "## OneHot Encoding the labels to prepare the labels for the NN model"
   ]
  },
  {
   "cell_type": "code",
   "execution_count": 187,
   "metadata": {},
   "outputs": [],
   "source": [
    "from sklearn.preprocessing import OneHotEncoder"
   ]
  },
  {
   "cell_type": "code",
   "execution_count": 188,
   "metadata": {},
   "outputs": [
    {
     "name": "stdout",
     "output_type": "stream",
     "text": [
      "[[1. 0. 0.]\n",
      " [0. 1. 0.]\n",
      " [0. 0. 1.]\n",
      " ...\n",
      " [1. 0. 0.]\n",
      " [1. 0. 0.]\n",
      " [0. 1. 0.]]\n"
     ]
    }
   ],
   "source": [
    "onehot_encoder = OneHotEncoder(sparse=False)\n",
    "y = y.reshape(len(y), 1)\n",
    "onehot_encoded_y = onehot_encoder.fit_transform(y)\n",
    "print(onehot_encoded_y)"
   ]
  },
  {
   "cell_type": "markdown",
   "metadata": {},
   "source": [
    "## Neural Networks"
   ]
  },
  {
   "cell_type": "code",
   "execution_count": 189,
   "metadata": {},
   "outputs": [],
   "source": [
    "## Creating a model\n",
    "from tensorflow.keras.models import Sequential\n",
    "from  tensorflow.keras.layers  import Dense\n",
    "\n",
    "model = Sequential()\n",
    "\n",
    "# For first layer, input shape must be supplied\n",
    "layer1 = Dense(units = 512, activation = 'relu', input_dim = X.shape[1])\n",
    "model.add(layer1)\n",
    "\n",
    "layer2 = Dense(units = 512, activation = 'relu')\n",
    "model.add(layer2)\n",
    "\n",
    "layer3 = Dense(units = 3, activation = 'softmax')\n",
    "model.add(layer3)"
   ]
  },
  {
   "cell_type": "code",
   "execution_count": 190,
   "metadata": {},
   "outputs": [],
   "source": [
    "model.compile(optimizer='adam', loss='categorical_crossentropy', metrics = ['accuracy'])"
   ]
  },
  {
   "cell_type": "code",
   "execution_count": 191,
   "metadata": {},
   "outputs": [],
   "source": [
    "X_train, X_test, y_train, y_test = train_test_split(X, onehot_encoded_y, test_size=0.2, random_state=42)"
   ]
  },
  {
   "cell_type": "code",
   "execution_count": 192,
   "metadata": {},
   "outputs": [
    {
     "name": "stdout",
     "output_type": "stream",
     "text": [
      "Epoch 1/25\n",
      "1705/1705 [==============================] - 0s 280us/sample - loss: 168342931556364.0312 - acc: 0.5314\n",
      "Epoch 2/25\n",
      "1705/1705 [==============================] - 0s 253us/sample - loss: 334483190524974.2500 - acc: 0.5818\n",
      "Epoch 3/25\n",
      "1705/1705 [==============================] - 0s 286us/sample - loss: 91649633922408.9688 - acc: 0.5290\n",
      "Epoch 4/25\n",
      "1705/1705 [==============================] - 1s 294us/sample - loss: 100158099560592.2969 - acc: 0.4921\n",
      "Epoch 5/25\n",
      "1705/1705 [==============================] - 1s 301us/sample - loss: 153473394005724.1250 - acc: 0.6000\n",
      "Epoch 6/25\n",
      "1705/1705 [==============================] - 0s 284us/sample - loss: 172910348901282.6250 - acc: 0.5191\n",
      "Epoch 7/25\n",
      "1705/1705 [==============================] - 0s 269us/sample - loss: 139292226335250.9062 - acc: 0.5326\n",
      "Epoch 8/25\n",
      "1705/1705 [==============================] - 0s 276us/sample - loss: 37614551993692.9453 - acc: 0.4921\n",
      "Epoch 9/25\n",
      "1705/1705 [==============================] - 0s 284us/sample - loss: 84954373791085.7656 - acc: 0.5079\n",
      "Epoch 10/25\n",
      "1705/1705 [==============================] - 0s 281us/sample - loss: 61525153043740.0078 - acc: 0.5273\n",
      "Epoch 11/25\n",
      "1705/1705 [==============================] - 0s 280us/sample - loss: 101349982298558.8438 - acc: 0.5443\n",
      "Epoch 12/25\n",
      "1705/1705 [==============================] - 0s 273us/sample - loss: 38108906132746.0547 - acc: 0.4903\n",
      "Epoch 13/25\n",
      "1705/1705 [==============================] - 0s 291us/sample - loss: 6789774659668.0820 - acc: 0.4680\n",
      "Epoch 14/25\n",
      "1705/1705 [==============================] - 0s 276us/sample - loss: 57973595809468.8828 - acc: 0.5396\n",
      "Epoch 15/25\n",
      "1705/1705 [==============================] - 0s 280us/sample - loss: 8053303892464.0840 - acc: 0.4856\n",
      "Epoch 16/25\n",
      "1705/1705 [==============================] - 0s 287us/sample - loss: 84952444691993.5156 - acc: 0.5308\n",
      "Epoch 17/25\n",
      "1705/1705 [==============================] - 0s 285us/sample - loss: 71313328567437.7344 - acc: 0.5326\n",
      "Epoch 18/25\n",
      "1705/1705 [==============================] - 0s 284us/sample - loss: 30776326744461.5859 - acc: 0.5138\n",
      "Epoch 19/25\n",
      "1705/1705 [==============================] - 0s 282us/sample - loss: 74499139034564.2344 - acc: 0.5173\n",
      "Epoch 20/25\n",
      "1705/1705 [==============================] - 0s 285us/sample - loss: 27821058403065.5469 - acc: 0.4534\n",
      "Epoch 21/25\n",
      "1705/1705 [==============================] - 1s 346us/sample - loss: 44392498480804.8672 - acc: 0.4428\n",
      "Epoch 22/25\n",
      "1705/1705 [==============================] - 1s 311us/sample - loss: 71477476881480.6719 - acc: 0.4768\n",
      "Epoch 23/25\n",
      "1705/1705 [==============================] - 1s 305us/sample - loss: 113796937819106.5781 - acc: 0.4751\n",
      "Epoch 24/25\n",
      "1705/1705 [==============================] - 1s 348us/sample - loss: 74592903078767.2656 - acc: 0.4733\n",
      "Epoch 25/25\n",
      "1705/1705 [==============================] - 1s 301us/sample - loss: 38249368954319.0547 - acc: 0.5578\n"
     ]
    },
    {
     "data": {
      "text/plain": [
       "<tensorflow.python.keras.callbacks.History at 0x7f5ccde30860>"
      ]
     },
     "execution_count": 192,
     "metadata": {},
     "output_type": "execute_result"
    }
   ],
   "source": [
    "model.fit(X_train, y_train, epochs=25)"
   ]
  },
  {
   "cell_type": "code",
   "execution_count": 193,
   "metadata": {},
   "outputs": [
    {
     "name": "stdout",
     "output_type": "stream",
     "text": [
      "427/427 [==============================] - 0s 203us/sample - loss: 94990964464762.2969 - acc: 0.6534\n"
     ]
    }
   ],
   "source": [
    "nn_score = model.evaluate(X_test, y_test)[1]"
   ]
  },
  {
   "cell_type": "code",
   "execution_count": 194,
   "metadata": {},
   "outputs": [],
   "source": [
    "## Scores Before Normalization\n",
    "bn_random_forest_score = random_forest_score\n",
    "bn_knn_score = knn_score\n",
    "bn_logistic_regression_score = logistic_regression_score\n",
    "bn_svc_score = svc_score\n",
    "bn_dt_score = dt_score\n",
    "bn_nn_score = nn_score"
   ]
  },
  {
   "cell_type": "markdown",
   "metadata": {},
   "source": [
    "## [Before Normalization] Comparison between the above Classifiers"
   ]
  },
  {
   "cell_type": "code",
   "execution_count": 195,
   "metadata": {},
   "outputs": [
    {
     "name": "stdout",
     "output_type": "stream",
     "text": [
      "[Before Normalization]\n",
      "\n",
      "RandomForestClassifier :  0.9812646370023419\n",
      "K Nearest Neighbors :  0.7611241217798594\n",
      "Logistic Regression :  0.33489461358313816\n",
      "Support Vector Classifier :  0.3840749414519906\n",
      "Decision Tree Classifier :  0.7611241217798594\n",
      "Artificial Neural Networks :  0.6533958\n"
     ]
    }
   ],
   "source": [
    "# Before Normalization\n",
    "print(\"[Before Normalization]\\n\")\n",
    "print(\"RandomForestClassifier : \", bn_random_forest_score)\n",
    "print(\"K Nearest Neighbors : \", bn_knn_score)\n",
    "print(\"Logistic Regression : \", bn_logistic_regression_score)\n",
    "print(\"Support Vector Classifier : \", bn_svc_score)\n",
    "print(\"Decision Tree Classifier : \", bn_dt_score)\n",
    "print(\"Artificial Neural Networks : \", bn_nn_score)"
   ]
  },
  {
   "cell_type": "code",
   "execution_count": 196,
   "metadata": {},
   "outputs": [
    {
     "data": {
      "image/png": "[encoded data removed]",
      "text/plain": [
       "<Figure size 432x288 with 1 Axes>"
      ]
     },
     "metadata": {
      "needs_background": "light"
     },
     "output_type": "display_data"
    }
   ],
   "source": [
    "import matplotlib.pyplot as plt\n",
    "\n",
    "accuracy = [bn_random_forest_score, bn_knn_score, bn_logistic_regression_score, bn_svc_score, bn_dt_score, bn_nn_score]\n",
    "plt.bar(['RFC', 'KNN', 'LR', 'SVM', 'DT', 'NN'],accuracy, color=['red', 'green', 'cyan', 'blue', 'black', 'yellow'])\n",
    "plt.xlabel('Classifier')\n",
    "plt.ylabel('Accuracy')\n",
    "\n",
    "plt.title('[Before Normalization] Classifiers vs Test Accuracy')\n",
    "\n",
    "plt.show()"
   ]
  },
  {
   "cell_type": "markdown",
   "metadata": {},
   "source": [
    "## Normzalization"
   ]
  },
  {
   "cell_type": "code",
   "execution_count": 197,
   "metadata": {},
   "outputs": [
    {
     "data": {
      "text/plain": [
       "array([0, 1, 2, ..., 0, 0, 1])"
      ]
     },
     "execution_count": 197,
     "metadata": {},
     "output_type": "execute_result"
    }
   ],
   "source": [
    "from sklearn.preprocessing import normalize\n",
    "## normalize our features\n",
    "X = normalize(X, axis=1)\n",
    "\n",
    "## get our labels\n",
    "y = data.label\n",
    "y = le.transform(y)\n",
    "y"
   ]
  },
  {
   "cell_type": "markdown",
   "metadata": {},
   "source": [
    "## Splitting dataset into Train, and Test sets (80-20%) respectively"
   ]
  },
  {
   "cell_type": "code",
   "execution_count": 198,
   "metadata": {},
   "outputs": [],
   "source": [
    "from sklearn.model_selection import train_test_split\n",
    "X_train, X_test, y_train, y_test = train_test_split(X, y, test_size=0.2, random_state=42)"
   ]
  },
  {
   "cell_type": "markdown",
   "metadata": {},
   "source": [
    "## Random Forest"
   ]
  },
  {
   "cell_type": "code",
   "execution_count": 199,
   "metadata": {},
   "outputs": [
    {
     "name": "stdout",
     "output_type": "stream",
     "text": [
      "Test Accuracy:  0.8571428571428571\n"
     ]
    },
    {
     "data": {
      "text/plain": [
       "Text(0.5, 1.0, 'Confusion matrix')"
      ]
     },
     "execution_count": 199,
     "metadata": {},
     "output_type": "execute_result"
    },
    {
     "data": {
      "image/png": "[encoded data removed]",
      "text/plain": [
       "<Figure size 432x288 with 2 Axes>"
      ]
     },
     "metadata": {
      "needs_background": "light"
     },
     "output_type": "display_data"
    }
   ],
   "source": [
    "## Training\n",
    "rf = RandomForestClassifier(n_estimators=10)\n",
    "rf.fit(X_train, y_train)\n",
    "\n",
    "## Prediction\n",
    "y_pred_rf = rf.predict(X_test)\n",
    "\n",
    "random_forest_score = accuracy_score(y_test, y_pred_rf)\n",
    "print(\"Test Accuracy: \", random_forest_score)\n",
    "\n",
    "## Confusion Matrix\n",
    "cm = confusion_matrix(y_pred=y_pred_rf, y_true=y_test)\n",
    "sns.heatmap(cm, annot=True).set_title('Confusion matrix')"
   ]
  },
  {
   "cell_type": "markdown",
   "metadata": {},
   "source": [
    "## SVM"
   ]
  },
  {
   "cell_type": "code",
   "execution_count": 200,
   "metadata": {},
   "outputs": [
    {
     "name": "stdout",
     "output_type": "stream",
     "text": [
      "Test Accuracy:  0.7634660421545667\n"
     ]
    },
    {
     "data": {
      "text/plain": [
       "Text(0.5, 1.0, 'Confusion matrix')"
      ]
     },
     "execution_count": 200,
     "metadata": {},
     "output_type": "execute_result"
    },
    {
     "data": {
      "image/png": "[encoded data removed]",
      "text/plain": [
       "<Figure size 432x288 with 2 Axes>"
      ]
     },
     "metadata": {
      "needs_background": "light"
     },
     "output_type": "display_data"
    }
   ],
   "source": [
    "## Training\n",
    "svc = svm.SVC(gamma=\"scale\")\n",
    "svc.fit(X_train, y_train)\n",
    "\n",
    "## Prediction\n",
    "y_pred_svm = svc.predict(X_test)\n",
    "svc_score = accuracy_score(y_test, y_pred_svm)\n",
    "print(\"Test Accuracy: \", svc_score)\n",
    "\n",
    "## Confusion Matrix\n",
    "cm = confusion_matrix(y_pred=y_pred_svm, y_true=y_test)\n",
    "sns.heatmap(cm, annot=True).set_title('Confusion matrix')"
   ]
  },
  {
   "cell_type": "markdown",
   "metadata": {},
   "source": [
    "## Logistic Regression"
   ]
  },
  {
   "cell_type": "code",
   "execution_count": 201,
   "metadata": {},
   "outputs": [
    {
     "name": "stdout",
     "output_type": "stream",
     "text": [
      "Test Accuracy:  0.7330210772833724\n"
     ]
    },
    {
     "data": {
      "text/plain": [
       "Text(0.5, 1.0, 'Confusion matrix')"
      ]
     },
     "execution_count": 201,
     "metadata": {},
     "output_type": "execute_result"
    },
    {
     "data": {
      "image/png": "[encoded data removed]",
      "text/plain": [
       "<Figure size 432x288 with 2 Axes>"
      ]
     },
     "metadata": {
      "needs_background": "light"
     },
     "output_type": "display_data"
    }
   ],
   "source": [
    "## Training\n",
    "lr = LogisticRegression(solver=\"lbfgs\", max_iter=200)\n",
    "lr.fit(X_train, y_train)\n",
    "\n",
    "## Prediction\n",
    "y_pred_lr = lr.predict(X_test)\n",
    "logistic_regression_score = accuracy_score(y_test, y_pred_lr)\n",
    "print(\"Test Accuracy: \", logistic_regression_score)\n",
    "\n",
    "## Confusion Matrix\n",
    "cm = confusion_matrix(y_pred=y_pred_lr, y_true=y_test)\n",
    "sns.heatmap(cm, annot=True).set_title('Confusion matrix')"
   ]
  },
  {
   "cell_type": "markdown",
   "metadata": {},
   "source": [
    "## KNN"
   ]
  },
  {
   "cell_type": "code",
   "execution_count": 202,
   "metadata": {},
   "outputs": [
    {
     "name": "stdout",
     "output_type": "stream",
     "text": [
      "Test Accuracy:  0.810304449648712\n"
     ]
    },
    {
     "data": {
      "text/plain": [
       "Text(0.5, 1.0, 'Confusion matrix')"
      ]
     },
     "execution_count": 202,
     "metadata": {},
     "output_type": "execute_result"
    },
    {
     "data": {
      "image/png": "[encoded data removed]",
      "text/plain": [
       "<Figure size 432x288 with 2 Axes>"
      ]
     },
     "metadata": {
      "needs_background": "light"
     },
     "output_type": "display_data"
    }
   ],
   "source": [
    "## Training\n",
    "knn = KNeighborsClassifier()\n",
    "knn.fit(X_train, y_train)\n",
    "\n",
    "## Prediction\n",
    "y_pred_knn = knn.predict(X_test)\n",
    "\n",
    "knn_score = accuracy_score(y_test, y_pred_knn)\n",
    "print(\"Test Accuracy: \", knn_score)\n",
    "\n",
    "## Confusion Matrix\n",
    "cm = confusion_matrix(y_pred=y_pred_knn, y_true=y_test)\n",
    "sns.heatmap(cm, annot=True).set_title('Confusion matrix')"
   ]
  },
  {
   "cell_type": "markdown",
   "metadata": {},
   "source": [
    "## Decision Tree"
   ]
  },
  {
   "cell_type": "code",
   "execution_count": 203,
   "metadata": {},
   "outputs": [
    {
     "name": "stdout",
     "output_type": "stream",
     "text": [
      "Test Accuracy:  0.810304449648712\n"
     ]
    },
    {
     "data": {
      "text/plain": [
       "Text(0.5, 1.0, 'Confusion matrix')"
      ]
     },
     "execution_count": 203,
     "metadata": {},
     "output_type": "execute_result"
    },
    {
     "data": {
      "image/png": "[encoded data removed]",
      "text/plain": [
       "<Figure size 432x288 with 2 Axes>"
      ]
     },
     "metadata": {
      "needs_background": "light"
     },
     "output_type": "display_data"
    }
   ],
   "source": [
    "dt = tree.DecisionTreeClassifier()\n",
    "dt = dt.fit(X_train, y_train)\n",
    "\n",
    "## Prediction\n",
    "y_pred_dt = dt.predict(X_test)\n",
    "\n",
    "dt_score = accuracy_score(y_test, y_pred_knn)\n",
    "print(\"Test Accuracy: \", dt_score)\n",
    "\n",
    "## Confusion Matrix\n",
    "cm = confusion_matrix(y_pred=y_pred_dt, y_true=y_test)\n",
    "sns.heatmap(cm, annot=True).set_title('Confusion matrix')"
   ]
  },
  {
   "cell_type": "markdown",
   "metadata": {},
   "source": [
    "## OneHot Encoding our labels for the NN model"
   ]
  },
  {
   "cell_type": "code",
   "execution_count": 205,
   "metadata": {},
   "outputs": [
    {
     "name": "stdout",
     "output_type": "stream",
     "text": [
      "[[1. 0. 0.]\n",
      " [0. 1. 0.]\n",
      " [0. 0. 1.]\n",
      " ...\n",
      " [1. 0. 0.]\n",
      " [1. 0. 0.]\n",
      " [0. 1. 0.]]\n"
     ]
    }
   ],
   "source": [
    "onehot_encoded_y = onehot_encoder.fit_transform(y.reshape(-1, 1))\n",
    "print(onehot_encoded_y)"
   ]
  },
  {
   "cell_type": "markdown",
   "metadata": {},
   "source": [
    "## Neural Networks"
   ]
  },
  {
   "cell_type": "code",
   "execution_count": 206,
   "metadata": {},
   "outputs": [],
   "source": [
    "## Creating a model\n",
    "from tensorflow.keras.models import Sequential\n",
    "from  tensorflow.keras.layers  import Dense\n",
    "\n",
    "model = Sequential()\n",
    "\n",
    "# For first layer, input shape must be supplied\n",
    "layer1 = Dense(units = 512, activation = 'relu', input_dim = X.shape[1])\n",
    "model.add(layer1)\n",
    "\n",
    "layer2 = Dense(units = 512, activation = 'relu')\n",
    "model.add(layer2)\n",
    "\n",
    "layer3 = Dense(units = 3, activation = 'softmax')\n",
    "model.add(layer3)"
   ]
  },
  {
   "cell_type": "code",
   "execution_count": 207,
   "metadata": {},
   "outputs": [],
   "source": [
    "model.compile(optimizer='adam', loss='categorical_crossentropy', metrics = ['accuracy'])"
   ]
  },
  {
   "cell_type": "code",
   "execution_count": 208,
   "metadata": {},
   "outputs": [],
   "source": [
    "X_train, X_test, y_train, y_test = train_test_split(X, onehot_encoded_y, test_size=0.2, random_state=42)"
   ]
  },
  {
   "cell_type": "code",
   "execution_count": 209,
   "metadata": {},
   "outputs": [
    {
     "name": "stdout",
     "output_type": "stream",
     "text": [
      "Epoch 1/25\n",
      "1705/1705 [==============================] - 0s 287us/sample - loss: 0.7460 - acc: 0.6610\n",
      "Epoch 2/25\n",
      "1705/1705 [==============================] - 0s 254us/sample - loss: 0.6186 - acc: 0.7150\n",
      "Epoch 3/25\n",
      "1705/1705 [==============================] - 0s 260us/sample - loss: 0.5793 - acc: 0.7343\n",
      "Epoch 4/25\n",
      "1705/1705 [==============================] - 1s 294us/sample - loss: 0.5742 - acc: 0.7460\n",
      "Epoch 5/25\n",
      "1705/1705 [==============================] - 0s 279us/sample - loss: 0.5719 - acc: 0.7531\n",
      "Epoch 6/25\n",
      "1705/1705 [==============================] - 1s 318us/sample - loss: 0.5455 - acc: 0.7548\n",
      "Epoch 7/25\n",
      "1705/1705 [==============================] - 1s 319us/sample - loss: 0.5379 - acc: 0.7613\n",
      "Epoch 8/25\n",
      "1705/1705 [==============================] - 1s 325us/sample - loss: 0.5236 - acc: 0.7660\n",
      "Epoch 9/25\n",
      "1705/1705 [==============================] - 0s 286us/sample - loss: 0.5184 - acc: 0.7842\n",
      "Epoch 10/25\n",
      "1705/1705 [==============================] - 0s 277us/sample - loss: 0.5152 - acc: 0.7801\n",
      "Epoch 11/25\n",
      "1705/1705 [==============================] - 0s 284us/sample - loss: 0.5089 - acc: 0.7812\n",
      "Epoch 12/25\n",
      "1705/1705 [==============================] - 0s 278us/sample - loss: 0.4901 - acc: 0.7824\n",
      "Epoch 13/25\n",
      "1705/1705 [==============================] - 0s 282us/sample - loss: 0.4874 - acc: 0.7965\n",
      "Epoch 14/25\n",
      "1705/1705 [==============================] - 0s 281us/sample - loss: 0.4724 - acc: 0.8041\n",
      "Epoch 15/25\n",
      "1705/1705 [==============================] - 0s 277us/sample - loss: 0.4593 - acc: 0.8029\n",
      "Epoch 16/25\n",
      "1705/1705 [==============================] - 0s 282us/sample - loss: 0.4564 - acc: 0.8041\n",
      "Epoch 17/25\n",
      "1705/1705 [==============================] - 1s 313us/sample - loss: 0.4467 - acc: 0.8100\n",
      "Epoch 18/25\n",
      "1705/1705 [==============================] - 1s 330us/sample - loss: 0.4432 - acc: 0.8141\n",
      "Epoch 19/25\n",
      "1705/1705 [==============================] - 1s 333us/sample - loss: 0.4388 - acc: 0.8176\n",
      "Epoch 20/25\n",
      "1705/1705 [==============================] - 1s 357us/sample - loss: 0.4283 - acc: 0.8194\n",
      "Epoch 21/25\n",
      "1705/1705 [==============================] - 1s 315us/sample - loss: 0.4135 - acc: 0.8258\n",
      "Epoch 22/25\n",
      "1705/1705 [==============================] - 0s 286us/sample - loss: 0.4210 - acc: 0.8282\n",
      "Epoch 23/25\n",
      "1705/1705 [==============================] - 0s 282us/sample - loss: 0.4164 - acc: 0.8305\n",
      "Epoch 24/25\n",
      "1705/1705 [==============================] - 0s 293us/sample - loss: 0.4037 - acc: 0.8305\n",
      "Epoch 25/25\n",
      "1705/1705 [==============================] - 0s 285us/sample - loss: 0.3970 - acc: 0.8258\n"
     ]
    },
    {
     "data": {
      "text/plain": [
       "<tensorflow.python.keras.callbacks.History at 0x7f5ccd8999b0>"
      ]
     },
     "execution_count": 209,
     "metadata": {},
     "output_type": "execute_result"
    }
   ],
   "source": [
    "model.fit(X_train, y_train, epochs=25)"
   ]
  },
  {
   "cell_type": "code",
   "execution_count": 210,
   "metadata": {},
   "outputs": [
    {
     "name": "stdout",
     "output_type": "stream",
     "text": [
      "427/427 [==============================] - 0s 179us/sample - loss: 0.5509 - acc: 0.8431\n"
     ]
    }
   ],
   "source": [
    "nn_score = model.evaluate(X_test, y_test)[1]"
   ]
  },
  {
   "cell_type": "markdown",
   "metadata": {},
   "source": [
    "## Comparison between the above classifers"
   ]
  },
  {
   "cell_type": "code",
   "execution_count": 211,
   "metadata": {},
   "outputs": [
    {
     "name": "stdout",
     "output_type": "stream",
     "text": [
      "[After Normalization]\n",
      "\n",
      "RandomForestClassifier :  0.8571428571428571\n",
      "K Nearest Neighbors :  0.810304449648712\n",
      "Logistic Regression :  0.7330210772833724\n",
      "Support Vector Classifier :  0.7634660421545667\n",
      "Decision Tree Classifier :  0.810304449648712\n",
      "Artificial Neural Networks :  0.8430913\n"
     ]
    }
   ],
   "source": [
    "# After Normalization\n",
    "print(\"[After Normalization]\\n\")\n",
    "print(\"RandomForestClassifier : \", random_forest_score)\n",
    "print(\"K Nearest Neighbors : \", knn_score)\n",
    "print(\"Logistic Regression : \", logistic_regression_score)\n",
    "print(\"Support Vector Classifier : \", svc_score)\n",
    "print(\"Decision Tree Classifier : \", dt_score)\n",
    "print(\"Artificial Neural Networks : \", nn_score)"
   ]
  },
  {
   "cell_type": "code",
   "execution_count": 212,
   "metadata": {},
   "outputs": [
    {
     "data": {
      "image/png": "[encoded data removed]",
      "text/plain": [
       "<Figure size 432x288 with 1 Axes>"
      ]
     },
     "metadata": {
      "needs_background": "light"
     },
     "output_type": "display_data"
    }
   ],
   "source": [
    "accuracy = [random_forest_score, knn_score, logistic_regression_score, svc_score, dt_score, nn_score]\n",
    "plt.bar(['RFC', 'KNN', 'LR', 'SVM', 'DT', 'NN'],accuracy, color=['red', 'green', 'cyan', 'blue', 'black', 'yellow'])\n",
    "plt.xlabel('Classifier')\n",
    "plt.ylabel('Accuracy')\n",
    "\n",
    "plt.title('[After Normalization] Classifiers vs Test Accuracy')\n",
    "\n",
    "plt.show()"
   ]
  },
  {
   "cell_type": "code",
   "execution_count": null,
   "metadata": {},
   "outputs": [],
   "source": []
  },
  {
   "cell_type": "code",
   "execution_count": null,
   "metadata": {},
   "outputs": [],
   "source": []
  },
  {
   "cell_type": "code",
   "execution_count": null,
   "metadata": {},
   "outputs": [],
   "source": []
  },
  {
   "cell_type": "code",
   "execution_count": null,
   "metadata": {},
   "outputs": [],
   "source": []
  },
  {
   "cell_type": "code",
   "execution_count": null,
   "metadata": {},
   "outputs": [],
   "source": []
  }
 ],
 "metadata": {
  "kernelspec": {
   "display_name": "Python 3",
   "language": "python",
   "name": "python3"
  },
  "language_info": {
   "codemirror_mode": {
    "name": "ipython",
    "version": 3
   },
   "file_extension": ".py",
   "mimetype": "text/x-python",
   "name": "python",
   "nbconvert_exporter": "python",
   "pygments_lexer": "ipython3",
   "version": "3.6.9"
  }
 },
 "nbformat": 4,
 "nbformat_minor": 4
}
